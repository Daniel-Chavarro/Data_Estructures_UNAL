{
 "cells": [
  {
   "cell_type": "markdown",
   "id": "a9b17271",
   "metadata": {},
   "source": [
    "# LinkedList Benchmark Visualization\n",
    "\n",
    "This notebook creates time diagrams from benchmark results and saves them in the graphicsResults folder."
   ]
  },
  {
   "cell_type": "code",
   "execution_count": 22,
   "id": "986c93f7",
   "metadata": {},
   "outputs": [],
   "source": [
    "import pandas as pd\n",
    "import matplotlib.pyplot as plt\n",
    "import seaborn as sns\n",
    "import os\n",
    "from pathlib import Path"
   ]
  },
  {
   "cell_type": "markdown",
   "id": "073a4132",
   "metadata": {},
   "source": [
    "### Loading Data"
   ]
  },
  {
   "cell_type": "code",
   "execution_count": 11,
   "id": "702f6491",
   "metadata": {},
   "outputs": [],
   "source": [
    "def load_data(file_path):\n",
    "    \"\"\"\n",
    "    Load data from CSV file\n",
    "    \n",
    "    Args:\n",
    "        file_path: Path to the file\n",
    "        \n",
    "    Returns:\n",
    "        DataFrame with the data\n",
    "    \"\"\"\n",
    "    return pd.read_csv(file_path)\n"
   ]
  },
  {
   "cell_type": "markdown",
   "id": "6a723528",
   "metadata": {},
   "source": [
    "Getting abspath"
   ]
  },
  {
   "cell_type": "code",
   "execution_count": 36,
   "id": "c4b2acc9",
   "metadata": {},
   "outputs": [
    {
     "name": "stdout",
     "output_type": "stream",
     "text": [
      "Project root: C:\\Users\\adria\\Documents\\GitHub\\Data_Estructures_UNAL\\ListTester\n"
     ]
    }
   ],
   "source": [
    "def find_project_root(current_path, marker_files=('.git', 'pyproject.toml', 'setup.py', 'requirements.txt')):\n",
    "    \"\"\"Find the project root by looking for marker files.\"\"\"\n",
    "    current = Path(current_path).absolute()\n",
    "    \n",
    "\n",
    "    for path in [current, *current.parents]:\n",
    "        for marker in marker_files:\n",
    "            if (path / marker).exists():\n",
    "                return path\n",
    "                \n",
    "\n",
    "    return current\n",
    "\n",
    "project_root = find_project_root(os.path.abspath(''))\n",
    "print(f\"Project root: {project_root}\")"
   ]
  },
  {
   "cell_type": "markdown",
   "id": "037234cb",
   "metadata": {},
   "source": [
    "Extracting data"
   ]
  },
  {
   "cell_type": "code",
   "execution_count": 30,
   "id": "b31ad296",
   "metadata": {},
   "outputs": [
    {
     "name": "stdout",
     "output_type": "stream",
     "text": [
      "Data loaded from: C:\\Users\\adria\\Documents\\GitHub\\Data_Estructures_UNAL\\ListTester\\results\\benchmark_results.csv\n"
     ]
    }
   ],
   "source": [
    "data = load_data(os.path.join(project_root, 'results', 'benchmark_results.csv'))\n",
    "print(f\"Data loaded from: {os.path.join(project_root, 'results', 'benchmark_results.csv')}\")"
   ]
  },
  {
   "cell_type": "markdown",
   "id": "6264fa43",
   "metadata": {},
   "source": [
    "### Manipulating Data"
   ]
  },
  {
   "cell_type": "code",
   "execution_count": 31,
   "id": "57101552",
   "metadata": {},
   "outputs": [
    {
     "data": {
      "text/html": [
       "<div>\n",
       "<style scoped>\n",
       "    .dataframe tbody tr th:only-of-type {\n",
       "        vertical-align: middle;\n",
       "    }\n",
       "\n",
       "    .dataframe tbody tr th {\n",
       "        vertical-align: top;\n",
       "    }\n",
       "\n",
       "    .dataframe thead th {\n",
       "        text-align: right;\n",
       "    }\n",
       "</style>\n",
       "<table border=\"1\" class=\"dataframe\">\n",
       "  <thead>\n",
       "    <tr style=\"text-align: right;\">\n",
       "      <th></th>\n",
       "      <th>ListType</th>\n",
       "      <th>Operation</th>\n",
       "      <th>TestSize</th>\n",
       "      <th>TotalTimeMs</th>\n",
       "      <th>AvgTimeNs</th>\n",
       "    </tr>\n",
       "  </thead>\n",
       "  <tbody>\n",
       "    <tr>\n",
       "      <th>0</th>\n",
       "      <td>LINKED_LIST_WITH_TAIL</td>\n",
       "      <td>pushFront</td>\n",
       "      <td>100</td>\n",
       "      <td>0.282</td>\n",
       "      <td>282.000</td>\n",
       "    </tr>\n",
       "    <tr>\n",
       "      <th>1</th>\n",
       "      <td>LINKED_LIST_WITH_TAIL</td>\n",
       "      <td>pushBack</td>\n",
       "      <td>100</td>\n",
       "      <td>0.195</td>\n",
       "      <td>194.600</td>\n",
       "    </tr>\n",
       "    <tr>\n",
       "      <th>2</th>\n",
       "      <td>LINKED_LIST_WITH_TAIL</td>\n",
       "      <td>popFront</td>\n",
       "      <td>100</td>\n",
       "      <td>0.004</td>\n",
       "      <td>35.000</td>\n",
       "    </tr>\n",
       "    <tr>\n",
       "      <th>3</th>\n",
       "      <td>LINKED_LIST_WITH_TAIL</td>\n",
       "      <td>popBack</td>\n",
       "      <td>100</td>\n",
       "      <td>0.064</td>\n",
       "      <td>642.000</td>\n",
       "    </tr>\n",
       "    <tr>\n",
       "      <th>4</th>\n",
       "      <td>LINKED_LIST_WITH_TAIL</td>\n",
       "      <td>find</td>\n",
       "      <td>100</td>\n",
       "      <td>0.242</td>\n",
       "      <td>24230.000</td>\n",
       "    </tr>\n",
       "    <tr>\n",
       "      <th>...</th>\n",
       "      <td>...</td>\n",
       "      <td>...</td>\n",
       "      <td>...</td>\n",
       "      <td>...</td>\n",
       "      <td>...</td>\n",
       "    </tr>\n",
       "    <tr>\n",
       "      <th>123</th>\n",
       "      <td>DOUBLE_LINKED_LIST_WITHOUT_TAIL</td>\n",
       "      <td>popBack</td>\n",
       "      <td>100000</td>\n",
       "      <td>5514.947</td>\n",
       "      <td>55149.466</td>\n",
       "    </tr>\n",
       "    <tr>\n",
       "      <th>124</th>\n",
       "      <td>DOUBLE_LINKED_LIST_WITHOUT_TAIL</td>\n",
       "      <td>find</td>\n",
       "      <td>100000</td>\n",
       "      <td>648.463</td>\n",
       "      <td>64846.310</td>\n",
       "    </tr>\n",
       "    <tr>\n",
       "      <th>125</th>\n",
       "      <td>DOUBLE_LINKED_LIST_WITHOUT_TAIL</td>\n",
       "      <td>erase</td>\n",
       "      <td>100000</td>\n",
       "      <td>639.537</td>\n",
       "      <td>63953.740</td>\n",
       "    </tr>\n",
       "    <tr>\n",
       "      <th>126</th>\n",
       "      <td>DOUBLE_LINKED_LIST_WITHOUT_TAIL</td>\n",
       "      <td>addAfter</td>\n",
       "      <td>100000</td>\n",
       "      <td>0.160</td>\n",
       "      <td>16.010</td>\n",
       "    </tr>\n",
       "    <tr>\n",
       "      <th>127</th>\n",
       "      <td>DOUBLE_LINKED_LIST_WITHOUT_TAIL</td>\n",
       "      <td>addBefore</td>\n",
       "      <td>100000</td>\n",
       "      <td>0.151</td>\n",
       "      <td>15.070</td>\n",
       "    </tr>\n",
       "  </tbody>\n",
       "</table>\n",
       "<p>128 rows × 5 columns</p>\n",
       "</div>"
      ],
      "text/plain": [
       "                            ListType  Operation  TestSize  TotalTimeMs  \\\n",
       "0              LINKED_LIST_WITH_TAIL  pushFront       100        0.282   \n",
       "1              LINKED_LIST_WITH_TAIL   pushBack       100        0.195   \n",
       "2              LINKED_LIST_WITH_TAIL   popFront       100        0.004   \n",
       "3              LINKED_LIST_WITH_TAIL    popBack       100        0.064   \n",
       "4              LINKED_LIST_WITH_TAIL       find       100        0.242   \n",
       "..                               ...        ...       ...          ...   \n",
       "123  DOUBLE_LINKED_LIST_WITHOUT_TAIL    popBack    100000     5514.947   \n",
       "124  DOUBLE_LINKED_LIST_WITHOUT_TAIL       find    100000      648.463   \n",
       "125  DOUBLE_LINKED_LIST_WITHOUT_TAIL      erase    100000      639.537   \n",
       "126  DOUBLE_LINKED_LIST_WITHOUT_TAIL   addAfter    100000        0.160   \n",
       "127  DOUBLE_LINKED_LIST_WITHOUT_TAIL  addBefore    100000        0.151   \n",
       "\n",
       "     AvgTimeNs  \n",
       "0      282.000  \n",
       "1      194.600  \n",
       "2       35.000  \n",
       "3      642.000  \n",
       "4    24230.000  \n",
       "..         ...  \n",
       "123  55149.466  \n",
       "124  64846.310  \n",
       "125  63953.740  \n",
       "126     16.010  \n",
       "127     15.070  \n",
       "\n",
       "[128 rows x 5 columns]"
      ]
     },
     "execution_count": 31,
     "metadata": {},
     "output_type": "execute_result"
    }
   ],
   "source": [
    "data"
   ]
  },
  {
   "cell_type": "code",
   "execution_count": 41,
   "id": "a96e8078",
   "metadata": {},
   "outputs": [],
   "source": [
    "def create_time_diagrams(data, output_dir):\n",
    "    \"\"\"\n",
    "    Create time diagrams from benchmark results\n",
    "    \n",
    "    Args:\n",
    "        data: DataFrame with the benchmark results\n",
    "        output_dir: Directory to save the plots\n",
    "    \"\"\"\n",
    "    # Create output directory if it doesn't exist\n",
    "    os.makedirs(output_dir, exist_ok=True)\n",
    "    \n",
    "    # Set plot style\n",
    "    sns.set_theme(style=\"whitegrid\")\n",
    "    \n",
    "   \n",
    "    # 1. Time diagram for each operation by list type\n",
    "    operations = data[\"Operation\"].unique()\n",
    "    for operation in operations:\n",
    "        operation_data = data[data['Operation'] == operation]\n",
    "        \n",
    "        plt.figure(figsize=(12, 8))\n",
    "        chart = sns.lineplot(x='TestSize', y='AvgTimeNs', hue='ListType', \n",
    "                           markers=True, style='ListType', data=operation_data)\n",
    "        chart.set_title(f'Time Diagram: {operation} Operation Performance')\n",
    "        chart.set_xlabel('Test Size')\n",
    "        chart.set_ylabel('Average Time (ns)')\n",
    "        chart.set_xscale('log')\n",
    "        plt.tight_layout()\n",
    "        plt.savefig(os.path.join(output_dir, f'time_diagram_{operation}.png'))\n",
    "        plt.close()\n",
    "    "
   ]
  },
  {
   "cell_type": "markdown",
   "id": "52451b12",
   "metadata": {},
   "source": [
    "Finally creating images"
   ]
  },
  {
   "cell_type": "code",
   "execution_count": 42,
   "id": "4aad48fb",
   "metadata": {},
   "outputs": [],
   "source": [
    "create_time_diagrams(data, os.path.join(project_root, 'results', 'plots'))"
   ]
  }
 ],
 "metadata": {
  "kernelspec": {
   "display_name": "venv",
   "language": "python",
   "name": "python3"
  },
  "language_info": {
   "codemirror_mode": {
    "name": "ipython",
    "version": 3
   },
   "file_extension": ".py",
   "mimetype": "text/x-python",
   "name": "python",
   "nbconvert_exporter": "python",
   "pygments_lexer": "ipython3",
   "version": "3.13.0"
  }
 },
 "nbformat": 4,
 "nbformat_minor": 5
}
